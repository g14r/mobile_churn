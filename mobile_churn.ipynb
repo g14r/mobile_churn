{
 "cells": [
  {
   "cell_type": "markdown",
   "metadata": {},
   "source": [
    "<h1>Description of the problem</h1> \n",
    "\n",
    ">A bit of **background**: in the digital marketing world it is really important to retain the customers (not to let them *churn* / unsubscribe). Most big companies have churn prediction models which are based on customer data. Attached is a dataset for a mobile company in which different features of each customer are shown (in different columns), and in the last column you can see if they churned or not.\n",
    "\n",
    "We have a dataset from a mobile company including a few hundred customers. For each customer, we have some features (gender, tenure, etc.) and we know if they have churned or not. The goal of this project is to see if by looking at the value of these features, we can learn a model that will predict whether a customer will leave (churn) or stay. This is an example of **supervised machine learning** project. All supervised algorithms have some features and related target/label values. This problem is also a binary classification because our target is either someone who has churned or not.   \n",
    "\n",
    "The focus of the project is to build a churn predictive model. \n",
    "Here, are the major steps that we will take: \n",
    "1. Data exploration and visualization\n",
    "2. Data cleaning / pre-processing\n",
    "3. Choice of predictive model and features\n",
    "4. Use CV to train and evaluate our model\n",
    "5. Description of outcomes / conclusion"
   ]
  },
  {
   "cell_type": "markdown",
   "metadata": {},
   "source": [
    "## 0. Preliminaries"
   ]
  },
  {
   "cell_type": "markdown",
   "metadata": {},
   "source": [
    "First, we import the libraries necessary for dealing with numbers, dataframes, and plotting. "
   ]
  },
  {
   "cell_type": "code",
   "execution_count": 1,
   "metadata": {},
   "outputs": [],
   "source": [
    "# import relevant libraries\n",
    "import pandas as pd\n",
    "import numpy as np\n",
    "import matplotlib\n",
    "import matplotlib.pyplot as plt\n",
    "%matplotlib inline\n",
    "import seaborn as sns"
   ]
  },
  {
   "cell_type": "markdown",
   "metadata": {},
   "source": [
    "## 1. Data exploration"
   ]
  },
  {
   "cell_type": "markdown",
   "metadata": {},
   "source": [
    "Next, we import the dataset and explore its shape. How does it look?"
   ]
  },
  {
   "cell_type": "code",
   "execution_count": 2,
   "metadata": {},
   "outputs": [
    {
     "data": {
      "text/html": [
       "<div>\n",
       "<style scoped>\n",
       "    .dataframe tbody tr th:only-of-type {\n",
       "        vertical-align: middle;\n",
       "    }\n",
       "\n",
       "    .dataframe tbody tr th {\n",
       "        vertical-align: top;\n",
       "    }\n",
       "\n",
       "    .dataframe thead th {\n",
       "        text-align: right;\n",
       "    }\n",
       "</style>\n",
       "<table border=\"1\" class=\"dataframe\">\n",
       "  <thead>\n",
       "    <tr style=\"text-align: right;\">\n",
       "      <th></th>\n",
       "      <th>customerID</th>\n",
       "      <th>gender</th>\n",
       "      <th>SeniorCitizen</th>\n",
       "      <th>Partner</th>\n",
       "      <th>Dependents</th>\n",
       "      <th>tenure</th>\n",
       "      <th>PhoneService</th>\n",
       "      <th>MultipleLines</th>\n",
       "      <th>InternetService</th>\n",
       "      <th>OnlineSecurity</th>\n",
       "      <th>...</th>\n",
       "      <th>DeviceProtection</th>\n",
       "      <th>TechSupport</th>\n",
       "      <th>StreamingTV</th>\n",
       "      <th>StreamingMovies</th>\n",
       "      <th>Contract</th>\n",
       "      <th>PaperlessBilling</th>\n",
       "      <th>PaymentMethod</th>\n",
       "      <th>MonthlyCharges</th>\n",
       "      <th>TotalCharges</th>\n",
       "      <th>Churn</th>\n",
       "    </tr>\n",
       "  </thead>\n",
       "  <tbody>\n",
       "    <tr>\n",
       "      <th>0</th>\n",
       "      <td>7590-VHVEG</td>\n",
       "      <td>Female</td>\n",
       "      <td>0</td>\n",
       "      <td>Yes</td>\n",
       "      <td>No</td>\n",
       "      <td>1</td>\n",
       "      <td>No</td>\n",
       "      <td>No phone service</td>\n",
       "      <td>DSL</td>\n",
       "      <td>No</td>\n",
       "      <td>...</td>\n",
       "      <td>No</td>\n",
       "      <td>No</td>\n",
       "      <td>No</td>\n",
       "      <td>No</td>\n",
       "      <td>Month-to-month</td>\n",
       "      <td>Yes</td>\n",
       "      <td>Electronic check</td>\n",
       "      <td>29.85</td>\n",
       "      <td>29.85</td>\n",
       "      <td>No</td>\n",
       "    </tr>\n",
       "    <tr>\n",
       "      <th>1</th>\n",
       "      <td>5575-GNVDE</td>\n",
       "      <td>Male</td>\n",
       "      <td>0</td>\n",
       "      <td>No</td>\n",
       "      <td>No</td>\n",
       "      <td>34</td>\n",
       "      <td>Yes</td>\n",
       "      <td>No</td>\n",
       "      <td>DSL</td>\n",
       "      <td>Yes</td>\n",
       "      <td>...</td>\n",
       "      <td>Yes</td>\n",
       "      <td>No</td>\n",
       "      <td>No</td>\n",
       "      <td>No</td>\n",
       "      <td>One year</td>\n",
       "      <td>No</td>\n",
       "      <td>Mailed check</td>\n",
       "      <td>56.95</td>\n",
       "      <td>1889.5</td>\n",
       "      <td>No</td>\n",
       "    </tr>\n",
       "    <tr>\n",
       "      <th>2</th>\n",
       "      <td>3668-QPYBK</td>\n",
       "      <td>Male</td>\n",
       "      <td>0</td>\n",
       "      <td>No</td>\n",
       "      <td>No</td>\n",
       "      <td>2</td>\n",
       "      <td>Yes</td>\n",
       "      <td>No</td>\n",
       "      <td>DSL</td>\n",
       "      <td>Yes</td>\n",
       "      <td>...</td>\n",
       "      <td>No</td>\n",
       "      <td>No</td>\n",
       "      <td>No</td>\n",
       "      <td>No</td>\n",
       "      <td>Month-to-month</td>\n",
       "      <td>Yes</td>\n",
       "      <td>Mailed check</td>\n",
       "      <td>53.85</td>\n",
       "      <td>108.15</td>\n",
       "      <td>Yes</td>\n",
       "    </tr>\n",
       "    <tr>\n",
       "      <th>3</th>\n",
       "      <td>7795-CFOCW</td>\n",
       "      <td>Male</td>\n",
       "      <td>0</td>\n",
       "      <td>No</td>\n",
       "      <td>No</td>\n",
       "      <td>45</td>\n",
       "      <td>No</td>\n",
       "      <td>No phone service</td>\n",
       "      <td>DSL</td>\n",
       "      <td>Yes</td>\n",
       "      <td>...</td>\n",
       "      <td>Yes</td>\n",
       "      <td>Yes</td>\n",
       "      <td>No</td>\n",
       "      <td>No</td>\n",
       "      <td>One year</td>\n",
       "      <td>No</td>\n",
       "      <td>Bank transfer (automatic)</td>\n",
       "      <td>42.30</td>\n",
       "      <td>1840.75</td>\n",
       "      <td>No</td>\n",
       "    </tr>\n",
       "    <tr>\n",
       "      <th>4</th>\n",
       "      <td>9237-HQITU</td>\n",
       "      <td>Female</td>\n",
       "      <td>0</td>\n",
       "      <td>No</td>\n",
       "      <td>No</td>\n",
       "      <td>2</td>\n",
       "      <td>Yes</td>\n",
       "      <td>No</td>\n",
       "      <td>Fiber optic</td>\n",
       "      <td>No</td>\n",
       "      <td>...</td>\n",
       "      <td>No</td>\n",
       "      <td>No</td>\n",
       "      <td>No</td>\n",
       "      <td>No</td>\n",
       "      <td>Month-to-month</td>\n",
       "      <td>Yes</td>\n",
       "      <td>Electronic check</td>\n",
       "      <td>70.70</td>\n",
       "      <td>151.65</td>\n",
       "      <td>Yes</td>\n",
       "    </tr>\n",
       "  </tbody>\n",
       "</table>\n",
       "<p>5 rows × 21 columns</p>\n",
       "</div>"
      ],
      "text/plain": [
       "   customerID  gender  SeniorCitizen Partner Dependents  tenure PhoneService  \\\n",
       "0  7590-VHVEG  Female              0     Yes         No       1           No   \n",
       "1  5575-GNVDE    Male              0      No         No      34          Yes   \n",
       "2  3668-QPYBK    Male              0      No         No       2          Yes   \n",
       "3  7795-CFOCW    Male              0      No         No      45           No   \n",
       "4  9237-HQITU  Female              0      No         No       2          Yes   \n",
       "\n",
       "      MultipleLines InternetService OnlineSecurity  ... DeviceProtection  \\\n",
       "0  No phone service             DSL             No  ...               No   \n",
       "1                No             DSL            Yes  ...              Yes   \n",
       "2                No             DSL            Yes  ...               No   \n",
       "3  No phone service             DSL            Yes  ...              Yes   \n",
       "4                No     Fiber optic             No  ...               No   \n",
       "\n",
       "  TechSupport StreamingTV StreamingMovies        Contract PaperlessBilling  \\\n",
       "0          No          No              No  Month-to-month              Yes   \n",
       "1          No          No              No        One year               No   \n",
       "2          No          No              No  Month-to-month              Yes   \n",
       "3         Yes          No              No        One year               No   \n",
       "4          No          No              No  Month-to-month              Yes   \n",
       "\n",
       "               PaymentMethod MonthlyCharges  TotalCharges Churn  \n",
       "0           Electronic check          29.85         29.85    No  \n",
       "1               Mailed check          56.95        1889.5    No  \n",
       "2               Mailed check          53.85        108.15   Yes  \n",
       "3  Bank transfer (automatic)          42.30       1840.75    No  \n",
       "4           Electronic check          70.70        151.65   Yes  \n",
       "\n",
       "[5 rows x 21 columns]"
      ]
     },
     "metadata": {},
     "output_type": "display_data"
    },
    {
     "name": "stdout",
     "output_type": "stream",
     "text": [
      "(7043, 21)\n",
      "Index(['customerID', 'gender', 'SeniorCitizen', 'Partner', 'Dependents',\n",
      "       'tenure', 'PhoneService', 'MultipleLines', 'InternetService',\n",
      "       'OnlineSecurity', 'OnlineBackup', 'DeviceProtection', 'TechSupport',\n",
      "       'StreamingTV', 'StreamingMovies', 'Contract', 'PaperlessBilling',\n",
      "       'PaymentMethod', 'MonthlyCharges', 'TotalCharges', 'Churn'],\n",
      "      dtype='object')\n"
     ]
    }
   ],
   "source": [
    "# load dataset\n",
    "ds = pd.read_csv('churn.csv')\n",
    "display(ds.head())\n",
    "print(ds.shape)\n",
    "print(ds.columns)"
   ]
  },
  {
   "cell_type": "code",
   "execution_count": 3,
   "metadata": {},
   "outputs": [
    {
     "data": {
      "text/html": [
       "<div>\n",
       "<style scoped>\n",
       "    .dataframe tbody tr th:only-of-type {\n",
       "        vertical-align: middle;\n",
       "    }\n",
       "\n",
       "    .dataframe tbody tr th {\n",
       "        vertical-align: top;\n",
       "    }\n",
       "\n",
       "    .dataframe thead th {\n",
       "        text-align: right;\n",
       "    }\n",
       "</style>\n",
       "<table border=\"1\" class=\"dataframe\">\n",
       "  <thead>\n",
       "    <tr style=\"text-align: right;\">\n",
       "      <th></th>\n",
       "      <th>SeniorCitizen</th>\n",
       "      <th>tenure</th>\n",
       "      <th>MonthlyCharges</th>\n",
       "    </tr>\n",
       "  </thead>\n",
       "  <tbody>\n",
       "    <tr>\n",
       "      <th>count</th>\n",
       "      <td>7043.000000</td>\n",
       "      <td>7043.000000</td>\n",
       "      <td>7043.000000</td>\n",
       "    </tr>\n",
       "    <tr>\n",
       "      <th>mean</th>\n",
       "      <td>0.162147</td>\n",
       "      <td>32.371149</td>\n",
       "      <td>64.761692</td>\n",
       "    </tr>\n",
       "    <tr>\n",
       "      <th>std</th>\n",
       "      <td>0.368612</td>\n",
       "      <td>24.559481</td>\n",
       "      <td>30.090047</td>\n",
       "    </tr>\n",
       "    <tr>\n",
       "      <th>min</th>\n",
       "      <td>0.000000</td>\n",
       "      <td>0.000000</td>\n",
       "      <td>18.250000</td>\n",
       "    </tr>\n",
       "    <tr>\n",
       "      <th>25%</th>\n",
       "      <td>0.000000</td>\n",
       "      <td>9.000000</td>\n",
       "      <td>35.500000</td>\n",
       "    </tr>\n",
       "    <tr>\n",
       "      <th>50%</th>\n",
       "      <td>0.000000</td>\n",
       "      <td>29.000000</td>\n",
       "      <td>70.350000</td>\n",
       "    </tr>\n",
       "    <tr>\n",
       "      <th>75%</th>\n",
       "      <td>0.000000</td>\n",
       "      <td>55.000000</td>\n",
       "      <td>89.850000</td>\n",
       "    </tr>\n",
       "    <tr>\n",
       "      <th>max</th>\n",
       "      <td>1.000000</td>\n",
       "      <td>72.000000</td>\n",
       "      <td>118.750000</td>\n",
       "    </tr>\n",
       "  </tbody>\n",
       "</table>\n",
       "</div>"
      ],
      "text/plain": [
       "       SeniorCitizen       tenure  MonthlyCharges\n",
       "count    7043.000000  7043.000000     7043.000000\n",
       "mean        0.162147    32.371149       64.761692\n",
       "std         0.368612    24.559481       30.090047\n",
       "min         0.000000     0.000000       18.250000\n",
       "25%         0.000000     9.000000       35.500000\n",
       "50%         0.000000    29.000000       70.350000\n",
       "75%         0.000000    55.000000       89.850000\n",
       "max         1.000000    72.000000      118.750000"
      ]
     },
     "execution_count": 3,
     "metadata": {},
     "output_type": "execute_result"
    }
   ],
   "source": [
    "# display summary stats for numeric features\n",
    "ds.describe()"
   ]
  },
  {
   "cell_type": "code",
   "execution_count": 4,
   "metadata": {},
   "outputs": [
    {
     "data": {
      "text/plain": [
       "Churn\n",
       "No     [[AxesSubplot(0.125,0.551739;0.336957x0.328261...\n",
       "Yes    [[AxesSubplot(0.125,0.551739;0.336957x0.328261...\n",
       "dtype: object"
      ]
     },
     "execution_count": 4,
     "metadata": {},
     "output_type": "execute_result"
    },
    {
     "data": {
      "image/png": "[encoded data removed]",
      "text/plain": [
       "<matplotlib.figure.Figure at 0x10f14ce48>"
      ]
     },
     "metadata": {},
     "output_type": "display_data"
    },
    {
     "data": {
      "image/png": "[encoded data removed]",
      "text/plain": [
       "<matplotlib.figure.Figure at 0x1a207627f0>"
      ]
     },
     "metadata": {},
     "output_type": "display_data"
    }
   ],
   "source": [
    "# Plot exploratory histograms for numeric variables, separately for stay or left\n",
    "ds.groupby('Churn').hist(figsize=(5, 5))"
   ]
  },
  {
   "cell_type": "markdown",
   "metadata": {},
   "source": [
    ">ds.describe() and groupby only return summary statistics and histograms for three columns. This is because it only works with numberical variables. To have a better overview of the data, we'll have to convert strings into numbers/codes. But before doing that, let's inspect if we have any missing values:"
   ]
  },
  {
   "cell_type": "code",
   "execution_count": 5,
   "metadata": {},
   "outputs": [
    {
     "name": "stdout",
     "output_type": "stream",
     "text": [
      "False\n"
     ]
    }
   ],
   "source": [
    "# look for nan and null\n",
    "print(ds.isnull().values.any())"
   ]
  },
  {
   "cell_type": "code",
   "execution_count": 6,
   "metadata": {},
   "outputs": [
    {
     "name": "stdout",
     "output_type": "stream",
     "text": [
      "Number of people who left: 1869\n",
      "Number of people who stayed: 5174\n"
     ]
    }
   ],
   "source": [
    "# Check how many people ended up churning\n",
    "left = ds[ds.Churn=='Yes']\n",
    "stay = ds[ds.Churn=='No']\n",
    "print(\"Number of people who left:\", left['Churn'].count())\n",
    "print(\"Number of people who stayed:\", stay['Churn'].count())"
   ]
  },
  {
   "cell_type": "markdown",
   "metadata": {},
   "source": [
    ">Looks like most people in the dataset actually stayed with the company (i.e. did not churn)."
   ]
  },
  {
   "cell_type": "markdown",
   "metadata": {},
   "source": [
    "## 2. Pre-processing"
   ]
  },
  {
   "cell_type": "markdown",
   "metadata": {},
   "source": [
    "Now let's turn strings into numbers so that we can deal with all of the features in the dataset."
   ]
  },
  {
   "cell_type": "code",
   "execution_count": 7,
   "metadata": {},
   "outputs": [],
   "source": [
    "# Let's turn string entries into numeric ones\n",
    "ds['genderID'] = np.double(ds.gender=='Female')\n",
    "ds['partnerID'] = np.double(ds.Partner=='Yes')\n",
    "ds['dependentsID'] = np.double(ds.Dependents=='Yes')\n",
    "ds['phoneservID'] = np.double(ds.PhoneService=='Yes')\n",
    "\n",
    "ds.loc[ds[ds.MultipleLines=='No phone service'].index, 'multlinesID'] = -1\n",
    "ds.loc[ds[ds.MultipleLines=='No'].index, 'multlinesID'] = 0\n",
    "ds.loc[ds[ds.MultipleLines=='Yes'].index, 'multlinesID'] = 1\n",
    "\n",
    "ds.loc[ds[ds.InternetService=='No'].index, 'internetID'] = -1\n",
    "ds.loc[ds[ds.InternetService=='DSL'].index, 'internetID'] = 1\n",
    "ds.loc[ds[ds.InternetService=='Fiber optic'].index, 'internetID'] = 2\n",
    "\n",
    "ds.loc[ds[ds.OnlineSecurity=='No internet service'].index, 'securityID'] = -1\n",
    "ds.loc[ds[ds.OnlineSecurity=='No'].index, 'securityID'] = 0\n",
    "ds.loc[ds[ds.OnlineSecurity=='Yes'].index, 'securityID'] = 1\n",
    "\n",
    "ds.loc[ds[ds.OnlineBackup=='No internet service'].index, 'backupID'] = -1\n",
    "ds.loc[ds[ds.OnlineBackup=='No'].index, 'backupID'] = 0\n",
    "ds.loc[ds[ds.OnlineBackup=='Yes'].index, 'backupID'] = 1\n",
    "\n",
    "ds.loc[ds[ds.DeviceProtection=='No internet service'].index, 'devprotID'] = -1\n",
    "ds.loc[ds[ds.DeviceProtection=='No'].index, 'devprotID'] = 0\n",
    "ds.loc[ds[ds.DeviceProtection=='Yes'].index, 'devprotID'] = 1\n",
    "\n",
    "ds.loc[ds[ds.TechSupport=='No internet service'].index, 'techsuppID'] = -1\n",
    "ds.loc[ds[ds.TechSupport=='No'].index, 'techsuppID'] = 0\n",
    "ds.loc[ds[ds.TechSupport=='Yes'].index, 'techsuppID'] = 1\n",
    "\n",
    "ds.loc[ds[ds.StreamingTV=='No internet service'].index, 'streamtvID'] = -1\n",
    "ds.loc[ds[ds.StreamingTV=='No'].index, 'streamtvID'] = 0\n",
    "ds.loc[ds[ds.StreamingTV=='Yes'].index, 'streamtvID'] = 1\n",
    "\n",
    "ds.loc[ds[ds.StreamingMovies=='No internet service'].index, 'streammovID'] = -1\n",
    "ds.loc[ds[ds.StreamingMovies=='No'].index, 'streammovID'] = 0\n",
    "ds.loc[ds[ds.StreamingMovies=='Yes'].index, 'streammovID'] = 1\n",
    "\n",
    "ds.loc[ds[ds.Contract=='Month-to-month'].index, 'contractID'] = 0\n",
    "ds.loc[ds[ds.Contract=='One year'].index, 'contractID'] = 1\n",
    "ds.loc[ds[ds.Contract=='Two year'].index, 'contractID'] = 2\n",
    "\n",
    "ds['paperlessID'] = np.double(ds.PaperlessBilling=='Yes')\n",
    "\n",
    "ds.loc[ds[ds.PaymentMethod=='Bank transfer (automatic)'].index, 'paymentID'] = 1\n",
    "ds.loc[ds[ds.PaymentMethod=='Credit card (automatic)'].index, 'paymentID'] = 2\n",
    "ds.loc[ds[ds.PaymentMethod=='Electronic check'].index, 'paymentID'] = 3\n",
    "ds.loc[ds[ds.PaymentMethod=='Mailed check'].index, 'paymentID'] = 4\n",
    "\n",
    "ds['churnID'] = np.double(ds.Churn=='Yes')\n",
    "\n",
    "# Let's drop some features that are not useful\n",
    "ds = ds.drop(columns=['customerID'])\n",
    "\n",
    "# Let's save the new clean dataset\n",
    "ds.to_csv('churn_clean.csv', index=False)"
   ]
  },
  {
   "cell_type": "code",
   "execution_count": 8,
   "metadata": {},
   "outputs": [
    {
     "name": "stdout",
     "output_type": "stream",
     "text": [
      "(7043, 36)\n"
     ]
    },
    {
     "data": {
      "text/html": [
       "<div>\n",
       "<style scoped>\n",
       "    .dataframe tbody tr th:only-of-type {\n",
       "        vertical-align: middle;\n",
       "    }\n",
       "\n",
       "    .dataframe tbody tr th {\n",
       "        vertical-align: top;\n",
       "    }\n",
       "\n",
       "    .dataframe thead th {\n",
       "        text-align: right;\n",
       "    }\n",
       "</style>\n",
       "<table border=\"1\" class=\"dataframe\">\n",
       "  <thead>\n",
       "    <tr style=\"text-align: right;\">\n",
       "      <th></th>\n",
       "      <th>genderID</th>\n",
       "      <th>partnerID</th>\n",
       "      <th>dependentsID</th>\n",
       "      <th>phoneservID</th>\n",
       "      <th>multlinesID</th>\n",
       "      <th>internetID</th>\n",
       "      <th>securityID</th>\n",
       "      <th>backupID</th>\n",
       "      <th>devprotID</th>\n",
       "      <th>techsuppID</th>\n",
       "      <th>streamtvID</th>\n",
       "      <th>streammovID</th>\n",
       "      <th>contractID</th>\n",
       "      <th>paperlessID</th>\n",
       "      <th>paymentID</th>\n",
       "      <th>churnID</th>\n",
       "    </tr>\n",
       "  </thead>\n",
       "  <tbody>\n",
       "    <tr>\n",
       "      <th>0</th>\n",
       "      <td>1.0</td>\n",
       "      <td>1.0</td>\n",
       "      <td>0.0</td>\n",
       "      <td>0.0</td>\n",
       "      <td>-1.0</td>\n",
       "      <td>1.0</td>\n",
       "      <td>0.0</td>\n",
       "      <td>1.0</td>\n",
       "      <td>0.0</td>\n",
       "      <td>0.0</td>\n",
       "      <td>0.0</td>\n",
       "      <td>0.0</td>\n",
       "      <td>0.0</td>\n",
       "      <td>1.0</td>\n",
       "      <td>3.0</td>\n",
       "      <td>0.0</td>\n",
       "    </tr>\n",
       "    <tr>\n",
       "      <th>1</th>\n",
       "      <td>0.0</td>\n",
       "      <td>0.0</td>\n",
       "      <td>0.0</td>\n",
       "      <td>1.0</td>\n",
       "      <td>0.0</td>\n",
       "      <td>1.0</td>\n",
       "      <td>1.0</td>\n",
       "      <td>0.0</td>\n",
       "      <td>1.0</td>\n",
       "      <td>0.0</td>\n",
       "      <td>0.0</td>\n",
       "      <td>0.0</td>\n",
       "      <td>1.0</td>\n",
       "      <td>0.0</td>\n",
       "      <td>4.0</td>\n",
       "      <td>0.0</td>\n",
       "    </tr>\n",
       "    <tr>\n",
       "      <th>2</th>\n",
       "      <td>0.0</td>\n",
       "      <td>0.0</td>\n",
       "      <td>0.0</td>\n",
       "      <td>1.0</td>\n",
       "      <td>0.0</td>\n",
       "      <td>1.0</td>\n",
       "      <td>1.0</td>\n",
       "      <td>1.0</td>\n",
       "      <td>0.0</td>\n",
       "      <td>0.0</td>\n",
       "      <td>0.0</td>\n",
       "      <td>0.0</td>\n",
       "      <td>0.0</td>\n",
       "      <td>1.0</td>\n",
       "      <td>4.0</td>\n",
       "      <td>1.0</td>\n",
       "    </tr>\n",
       "    <tr>\n",
       "      <th>3</th>\n",
       "      <td>0.0</td>\n",
       "      <td>0.0</td>\n",
       "      <td>0.0</td>\n",
       "      <td>0.0</td>\n",
       "      <td>-1.0</td>\n",
       "      <td>1.0</td>\n",
       "      <td>1.0</td>\n",
       "      <td>0.0</td>\n",
       "      <td>1.0</td>\n",
       "      <td>1.0</td>\n",
       "      <td>0.0</td>\n",
       "      <td>0.0</td>\n",
       "      <td>1.0</td>\n",
       "      <td>0.0</td>\n",
       "      <td>1.0</td>\n",
       "      <td>0.0</td>\n",
       "    </tr>\n",
       "    <tr>\n",
       "      <th>4</th>\n",
       "      <td>1.0</td>\n",
       "      <td>0.0</td>\n",
       "      <td>0.0</td>\n",
       "      <td>1.0</td>\n",
       "      <td>0.0</td>\n",
       "      <td>2.0</td>\n",
       "      <td>0.0</td>\n",
       "      <td>0.0</td>\n",
       "      <td>0.0</td>\n",
       "      <td>0.0</td>\n",
       "      <td>0.0</td>\n",
       "      <td>0.0</td>\n",
       "      <td>0.0</td>\n",
       "      <td>1.0</td>\n",
       "      <td>3.0</td>\n",
       "      <td>1.0</td>\n",
       "    </tr>\n",
       "  </tbody>\n",
       "</table>\n",
       "</div>"
      ],
      "text/plain": [
       "   genderID  partnerID  dependentsID  phoneservID  multlinesID  internetID  \\\n",
       "0       1.0        1.0           0.0          0.0         -1.0         1.0   \n",
       "1       0.0        0.0           0.0          1.0          0.0         1.0   \n",
       "2       0.0        0.0           0.0          1.0          0.0         1.0   \n",
       "3       0.0        0.0           0.0          0.0         -1.0         1.0   \n",
       "4       1.0        0.0           0.0          1.0          0.0         2.0   \n",
       "\n",
       "   securityID  backupID  devprotID  techsuppID  streamtvID  streammovID  \\\n",
       "0         0.0       1.0        0.0         0.0         0.0          0.0   \n",
       "1         1.0       0.0        1.0         0.0         0.0          0.0   \n",
       "2         1.0       1.0        0.0         0.0         0.0          0.0   \n",
       "3         1.0       0.0        1.0         1.0         0.0          0.0   \n",
       "4         0.0       0.0        0.0         0.0         0.0          0.0   \n",
       "\n",
       "   contractID  paperlessID  paymentID  churnID  \n",
       "0         0.0          1.0        3.0      0.0  \n",
       "1         1.0          0.0        4.0      0.0  \n",
       "2         0.0          1.0        4.0      1.0  \n",
       "3         1.0          0.0        1.0      0.0  \n",
       "4         0.0          1.0        3.0      1.0  "
      ]
     },
     "metadata": {},
     "output_type": "display_data"
    }
   ],
   "source": [
    "# Now import clean dataset\n",
    "df = pd.read_csv('churn_clean.csv')\n",
    "print(df.shape)\n",
    "display(df.iloc[:,20:].head())"
   ]
  },
  {
   "cell_type": "markdown",
   "metadata": {},
   "source": [
    ">The new dataset has nearly twice as many features. This is because we only added, not replaced, the old features with the new number-coded ones. But at least now we can use describe() to take a look."
   ]
  },
  {
   "cell_type": "code",
   "execution_count": 9,
   "metadata": {},
   "outputs": [
    {
     "data": {
      "text/html": [
       "<div>\n",
       "<style scoped>\n",
       "    .dataframe tbody tr th:only-of-type {\n",
       "        vertical-align: middle;\n",
       "    }\n",
       "\n",
       "    .dataframe tbody tr th {\n",
       "        vertical-align: top;\n",
       "    }\n",
       "\n",
       "    .dataframe thead th {\n",
       "        text-align: right;\n",
       "    }\n",
       "</style>\n",
       "<table border=\"1\" class=\"dataframe\">\n",
       "  <thead>\n",
       "    <tr style=\"text-align: right;\">\n",
       "      <th></th>\n",
       "      <th>SeniorCitizen</th>\n",
       "      <th>tenure</th>\n",
       "      <th>MonthlyCharges</th>\n",
       "      <th>genderID</th>\n",
       "      <th>partnerID</th>\n",
       "      <th>dependentsID</th>\n",
       "      <th>phoneservID</th>\n",
       "      <th>multlinesID</th>\n",
       "      <th>internetID</th>\n",
       "      <th>securityID</th>\n",
       "      <th>backupID</th>\n",
       "      <th>devprotID</th>\n",
       "      <th>techsuppID</th>\n",
       "      <th>streamtvID</th>\n",
       "      <th>streammovID</th>\n",
       "      <th>contractID</th>\n",
       "      <th>paperlessID</th>\n",
       "      <th>paymentID</th>\n",
       "      <th>churnID</th>\n",
       "    </tr>\n",
       "  </thead>\n",
       "  <tbody>\n",
       "    <tr>\n",
       "      <th>count</th>\n",
       "      <td>7043.000000</td>\n",
       "      <td>7043.000000</td>\n",
       "      <td>7043.000000</td>\n",
       "      <td>7043.000000</td>\n",
       "      <td>7043.000000</td>\n",
       "      <td>7043.000000</td>\n",
       "      <td>7043.000000</td>\n",
       "      <td>7043.000000</td>\n",
       "      <td>7043.000000</td>\n",
       "      <td>7043.000000</td>\n",
       "      <td>7043.000000</td>\n",
       "      <td>7043.000000</td>\n",
       "      <td>7043.000000</td>\n",
       "      <td>7043.000000</td>\n",
       "      <td>7043.000000</td>\n",
       "      <td>7043.000000</td>\n",
       "      <td>7043.000000</td>\n",
       "      <td>7043.000000</td>\n",
       "      <td>7043.000000</td>\n",
       "    </tr>\n",
       "    <tr>\n",
       "      <th>mean</th>\n",
       "      <td>0.162147</td>\n",
       "      <td>32.371149</td>\n",
       "      <td>64.761692</td>\n",
       "      <td>0.495244</td>\n",
       "      <td>0.483033</td>\n",
       "      <td>0.299588</td>\n",
       "      <td>0.903166</td>\n",
       "      <td>0.325004</td>\n",
       "      <td>1.006247</td>\n",
       "      <td>0.069999</td>\n",
       "      <td>0.128212</td>\n",
       "      <td>0.127219</td>\n",
       "      <td>0.073548</td>\n",
       "      <td>0.167684</td>\n",
       "      <td>0.171234</td>\n",
       "      <td>0.690473</td>\n",
       "      <td>0.592219</td>\n",
       "      <td>2.574329</td>\n",
       "      <td>0.265370</td>\n",
       "    </tr>\n",
       "    <tr>\n",
       "      <th>std</th>\n",
       "      <td>0.368612</td>\n",
       "      <td>24.559481</td>\n",
       "      <td>30.090047</td>\n",
       "      <td>0.500013</td>\n",
       "      <td>0.499748</td>\n",
       "      <td>0.458110</td>\n",
       "      <td>0.295752</td>\n",
       "      <td>0.642730</td>\n",
       "      <td>1.142982</td>\n",
       "      <td>0.706051</td>\n",
       "      <td>0.738369</td>\n",
       "      <td>0.737868</td>\n",
       "      <td>0.708201</td>\n",
       "      <td>0.756958</td>\n",
       "      <td>0.758507</td>\n",
       "      <td>0.833755</td>\n",
       "      <td>0.491457</td>\n",
       "      <td>1.068104</td>\n",
       "      <td>0.441561</td>\n",
       "    </tr>\n",
       "    <tr>\n",
       "      <th>min</th>\n",
       "      <td>0.000000</td>\n",
       "      <td>0.000000</td>\n",
       "      <td>18.250000</td>\n",
       "      <td>0.000000</td>\n",
       "      <td>0.000000</td>\n",
       "      <td>0.000000</td>\n",
       "      <td>0.000000</td>\n",
       "      <td>-1.000000</td>\n",
       "      <td>-1.000000</td>\n",
       "      <td>-1.000000</td>\n",
       "      <td>-1.000000</td>\n",
       "      <td>-1.000000</td>\n",
       "      <td>-1.000000</td>\n",
       "      <td>-1.000000</td>\n",
       "      <td>-1.000000</td>\n",
       "      <td>0.000000</td>\n",
       "      <td>0.000000</td>\n",
       "      <td>1.000000</td>\n",
       "      <td>0.000000</td>\n",
       "    </tr>\n",
       "    <tr>\n",
       "      <th>25%</th>\n",
       "      <td>0.000000</td>\n",
       "      <td>9.000000</td>\n",
       "      <td>35.500000</td>\n",
       "      <td>0.000000</td>\n",
       "      <td>0.000000</td>\n",
       "      <td>0.000000</td>\n",
       "      <td>1.000000</td>\n",
       "      <td>0.000000</td>\n",
       "      <td>1.000000</td>\n",
       "      <td>0.000000</td>\n",
       "      <td>0.000000</td>\n",
       "      <td>0.000000</td>\n",
       "      <td>0.000000</td>\n",
       "      <td>0.000000</td>\n",
       "      <td>0.000000</td>\n",
       "      <td>0.000000</td>\n",
       "      <td>0.000000</td>\n",
       "      <td>2.000000</td>\n",
       "      <td>0.000000</td>\n",
       "    </tr>\n",
       "    <tr>\n",
       "      <th>50%</th>\n",
       "      <td>0.000000</td>\n",
       "      <td>29.000000</td>\n",
       "      <td>70.350000</td>\n",
       "      <td>0.000000</td>\n",
       "      <td>0.000000</td>\n",
       "      <td>0.000000</td>\n",
       "      <td>1.000000</td>\n",
       "      <td>0.000000</td>\n",
       "      <td>1.000000</td>\n",
       "      <td>0.000000</td>\n",
       "      <td>0.000000</td>\n",
       "      <td>0.000000</td>\n",
       "      <td>0.000000</td>\n",
       "      <td>0.000000</td>\n",
       "      <td>0.000000</td>\n",
       "      <td>0.000000</td>\n",
       "      <td>1.000000</td>\n",
       "      <td>3.000000</td>\n",
       "      <td>0.000000</td>\n",
       "    </tr>\n",
       "    <tr>\n",
       "      <th>75%</th>\n",
       "      <td>0.000000</td>\n",
       "      <td>55.000000</td>\n",
       "      <td>89.850000</td>\n",
       "      <td>1.000000</td>\n",
       "      <td>1.000000</td>\n",
       "      <td>1.000000</td>\n",
       "      <td>1.000000</td>\n",
       "      <td>1.000000</td>\n",
       "      <td>2.000000</td>\n",
       "      <td>1.000000</td>\n",
       "      <td>1.000000</td>\n",
       "      <td>1.000000</td>\n",
       "      <td>1.000000</td>\n",
       "      <td>1.000000</td>\n",
       "      <td>1.000000</td>\n",
       "      <td>1.000000</td>\n",
       "      <td>1.000000</td>\n",
       "      <td>3.000000</td>\n",
       "      <td>1.000000</td>\n",
       "    </tr>\n",
       "    <tr>\n",
       "      <th>max</th>\n",
       "      <td>1.000000</td>\n",
       "      <td>72.000000</td>\n",
       "      <td>118.750000</td>\n",
       "      <td>1.000000</td>\n",
       "      <td>1.000000</td>\n",
       "      <td>1.000000</td>\n",
       "      <td>1.000000</td>\n",
       "      <td>1.000000</td>\n",
       "      <td>2.000000</td>\n",
       "      <td>1.000000</td>\n",
       "      <td>1.000000</td>\n",
       "      <td>1.000000</td>\n",
       "      <td>1.000000</td>\n",
       "      <td>1.000000</td>\n",
       "      <td>1.000000</td>\n",
       "      <td>2.000000</td>\n",
       "      <td>1.000000</td>\n",
       "      <td>4.000000</td>\n",
       "      <td>1.000000</td>\n",
       "    </tr>\n",
       "  </tbody>\n",
       "</table>\n",
       "</div>"
      ],
      "text/plain": [
       "       SeniorCitizen       tenure  MonthlyCharges     genderID    partnerID  \\\n",
       "count    7043.000000  7043.000000     7043.000000  7043.000000  7043.000000   \n",
       "mean        0.162147    32.371149       64.761692     0.495244     0.483033   \n",
       "std         0.368612    24.559481       30.090047     0.500013     0.499748   \n",
       "min         0.000000     0.000000       18.250000     0.000000     0.000000   \n",
       "25%         0.000000     9.000000       35.500000     0.000000     0.000000   \n",
       "50%         0.000000    29.000000       70.350000     0.000000     0.000000   \n",
       "75%         0.000000    55.000000       89.850000     1.000000     1.000000   \n",
       "max         1.000000    72.000000      118.750000     1.000000     1.000000   \n",
       "\n",
       "       dependentsID  phoneservID  multlinesID   internetID   securityID  \\\n",
       "count   7043.000000  7043.000000  7043.000000  7043.000000  7043.000000   \n",
       "mean       0.299588     0.903166     0.325004     1.006247     0.069999   \n",
       "std        0.458110     0.295752     0.642730     1.142982     0.706051   \n",
       "min        0.000000     0.000000    -1.000000    -1.000000    -1.000000   \n",
       "25%        0.000000     1.000000     0.000000     1.000000     0.000000   \n",
       "50%        0.000000     1.000000     0.000000     1.000000     0.000000   \n",
       "75%        1.000000     1.000000     1.000000     2.000000     1.000000   \n",
       "max        1.000000     1.000000     1.000000     2.000000     1.000000   \n",
       "\n",
       "          backupID    devprotID   techsuppID   streamtvID  streammovID  \\\n",
       "count  7043.000000  7043.000000  7043.000000  7043.000000  7043.000000   \n",
       "mean      0.128212     0.127219     0.073548     0.167684     0.171234   \n",
       "std       0.738369     0.737868     0.708201     0.756958     0.758507   \n",
       "min      -1.000000    -1.000000    -1.000000    -1.000000    -1.000000   \n",
       "25%       0.000000     0.000000     0.000000     0.000000     0.000000   \n",
       "50%       0.000000     0.000000     0.000000     0.000000     0.000000   \n",
       "75%       1.000000     1.000000     1.000000     1.000000     1.000000   \n",
       "max       1.000000     1.000000     1.000000     1.000000     1.000000   \n",
       "\n",
       "        contractID  paperlessID    paymentID      churnID  \n",
       "count  7043.000000  7043.000000  7043.000000  7043.000000  \n",
       "mean      0.690473     0.592219     2.574329     0.265370  \n",
       "std       0.833755     0.491457     1.068104     0.441561  \n",
       "min       0.000000     0.000000     1.000000     0.000000  \n",
       "25%       0.000000     0.000000     2.000000     0.000000  \n",
       "50%       0.000000     1.000000     3.000000     0.000000  \n",
       "75%       1.000000     1.000000     3.000000     1.000000  \n",
       "max       2.000000     1.000000     4.000000     1.000000  "
      ]
     },
     "metadata": {},
     "output_type": "display_data"
    }
   ],
   "source": [
    "# display summary stats for numeric features\n",
    "display(df.iloc[:,:].describe())"
   ]
  },
  {
   "cell_type": "code",
   "execution_count": 10,
   "metadata": {},
   "outputs": [
    {
     "data": {
      "text/plain": [
       "churnID\n",
       "0.0    [[AxesSubplot(0.125,0.758226;0.158163x0.121774...\n",
       "1.0    [[AxesSubplot(0.125,0.758226;0.158163x0.121774...\n",
       "dtype: object"
      ]
     },
     "execution_count": 10,
     "metadata": {},
     "output_type": "execute_result"
    },
    {
     "data": {
      "image/png": "[encoded data removed]",
      "text/plain": [
       "<matplotlib.figure.Figure at 0x1a22dbc320>"
      ]
     },
     "metadata": {},
     "output_type": "display_data"
    },
    {
     "data": {
      "image/png": "[encoded data removed]",
      "text/plain": [
       "<matplotlib.figure.Figure at 0x1a24444240>"
      ]
     },
     "metadata": {},
     "output_type": "display_data"
    }
   ],
   "source": [
    "# Re-explore features\n",
    "df.groupby('churnID').hist(figsize=(12, 12))"
   ]
  },
  {
   "cell_type": "markdown",
   "metadata": {},
   "source": [
    "## 3. Feature selection"
   ]
  },
  {
   "cell_type": "markdown",
   "metadata": {},
   "source": [
    "From an initial quick look at the histograms, we have some good preliminary candidate features that appear to differ between people who ended up churning and those who stayed: tenure, monthly charges, contract ID."
   ]
  },
  {
   "cell_type": "code",
   "execution_count": 11,
   "metadata": {},
   "outputs": [
    {
     "name": "stdout",
     "output_type": "stream",
     "text": [
      "(7043, 3)\n",
      "(7043,)\n"
     ]
    }
   ],
   "source": [
    "# Let's select explanatory features (X) and the response variables (Y)\n",
    "X = df[['tenure', 'MonthlyCharges', 'contractID']] # features we use for prediction\n",
    "Y = df.churnID # what we are predicting\n",
    "\n",
    "# Let's take a quick look at the shape of our variables\n",
    "print(X.shape)\n",
    "print(Y.shape)"
   ]
  },
  {
   "cell_type": "code",
   "execution_count": 12,
   "metadata": {},
   "outputs": [],
   "source": [
    "# Let's standardize our data\n",
    "from sklearn.preprocessing import StandardScaler\n",
    "scaler = StandardScaler()\n",
    "X_standard = scaler.fit_transform(X)"
   ]
  },
  {
   "cell_type": "code",
   "execution_count": 13,
   "metadata": {},
   "outputs": [
    {
     "name": "stdout",
     "output_type": "stream",
     "text": [
      "(4930, 3)\n",
      "(2113, 3)\n"
     ]
    }
   ],
   "source": [
    "# And split dataset into train and test sets\n",
    "from sklearn.model_selection import train_test_split\n",
    "X_train, X_evaluate, Y_train, Y_evaluate = train_test_split(X_standard, Y, test_size=0.3)\n",
    "print(X_train.shape)\n",
    "print(X_evaluate.shape)"
   ]
  },
  {
   "cell_type": "code",
   "execution_count": 14,
   "metadata": {},
   "outputs": [
    {
     "name": "stdout",
     "output_type": "stream",
     "text": [
      "(2113,)\n"
     ]
    }
   ],
   "source": [
    "# Finally, let's run our logistic regression model and create our predictions\n",
    "from sklearn.linear_model import LogisticRegression\n",
    "clf = LogisticRegression(random_state=0).fit(X_train, Y_train)\n",
    "Y_pred = clf.predict(X_evaluate)\n",
    "print(Y_pred.shape)"
   ]
  },
  {
   "cell_type": "markdown",
   "metadata": {},
   "source": [
    "## 4. Model evaluation"
   ]
  },
  {
   "cell_type": "markdown",
   "metadata": {},
   "source": [
    "The final step is to evaluate our model. How many times our predictions about churning turned out to be correct?"
   ]
  },
  {
   "cell_type": "code",
   "execution_count": 15,
   "metadata": {},
   "outputs": [
    {
     "data": {
      "text/plain": [
       "<sklearn.metrics._plot.confusion_matrix.ConfusionMatrixDisplay at 0x1a24068128>"
      ]
     },
     "execution_count": 15,
     "metadata": {},
     "output_type": "execute_result"
    },
    {
     "data": {
      "image/png": "[encoded data removed]",
      "text/plain": [
       "<matplotlib.figure.Figure at 0x1a252bb588>"
      ]
     },
     "metadata": {},
     "output_type": "display_data"
    }
   ],
   "source": [
    "# Let's create a confusion matrix to get all possible outcomes\n",
    "from sklearn.metrics import plot_confusion_matrix\n",
    "class_names = ['Negative', 'Positive']\n",
    "plot_confusion_matrix(clf, X_evaluate, Y_evaluate, cmap=plt.cm.Blues, display_labels=class_names)"
   ]
  },
  {
   "cell_type": "code",
   "execution_count": 16,
   "metadata": {},
   "outputs": [],
   "source": [
    "# Let's now get the values from the confusion matrix\n",
    "from sklearn.metrics import confusion_matrix\n",
    "con_mat = confusion_matrix(Y_evaluate, Y_pred)"
   ]
  },
  {
   "cell_type": "code",
   "execution_count": 17,
   "metadata": {},
   "outputs": [],
   "source": [
    "# coding true positives, true negatives, etc\n",
    "TP = con_mat[1,1] # true positives\n",
    "TN = con_mat[0,0] # true negatives\n",
    "FP = con_mat[0,1] # false positives\n",
    "FN = con_mat[1,0] # false negatives"
   ]
  },
  {
   "cell_type": "code",
   "execution_count": 18,
   "metadata": {},
   "outputs": [
    {
     "name": "stdout",
     "output_type": "stream",
     "text": [
      "Recall is 0.49\n",
      "Precision is 0.63\n",
      "Accuracy is 0.79\n"
     ]
    }
   ],
   "source": [
    "# calculating recall, precision, and accuracy\n",
    "recall = TP/(TP + FN)\n",
    "print(f'Recall is {recall:.2f}')\n",
    "\n",
    "precision = TP/(TP + FP)\n",
    "print(f'Precision is {precision:.2f}')\n",
    "\n",
    "accuracy = (TP + TN)/(TP + TN + FP + FN)\n",
    "print(f'Accuracy is {accuracy:.2f}')"
   ]
  },
  {
   "cell_type": "markdown",
   "metadata": {},
   "source": [
    "Our model has a prediction accuracy of nearly 80%. Not bad, but perhaps we can improve it by selecting all the features instead of our small subset. Because we train and test on independent portions of the dataset, this won't be a problem. Let's repeat the main steps:"
   ]
  },
  {
   "cell_type": "code",
   "execution_count": 19,
   "metadata": {},
   "outputs": [
    {
     "name": "stdout",
     "output_type": "stream",
     "text": [
      "Recall is 0.49\n",
      "Precision is 0.63\n",
      "Accuracy is 0.79\n"
     ]
    }
   ],
   "source": [
    "X = df.iloc[:,20:-1] # features we use for prediction\n",
    "Y = df.churnID # what we are predicting\n",
    "\n",
    "from sklearn.preprocessing import StandardScaler\n",
    "scaler = StandardScaler()\n",
    "X_standard = scaler.fit_transform(X)\n",
    "\n",
    "from sklearn.model_selection import train_test_split\n",
    "X_train, X_evaluate, Y_train, Y_evaluate = train_test_split(X_standard, Y, test_size=0.3)\n",
    "\n",
    "from sklearn.metrics import confusion_matrix\n",
    "con_mat = confusion_matrix(Y_evaluate, Y_pred)\n",
    "\n",
    "recall = TP/(TP + FN)\n",
    "print(f'Recall is {recall:.2f}')\n",
    "precision = TP/(TP + FP)\n",
    "print(f'Precision is {precision:.2f}')\n",
    "accuracy = (TP + TN)/(TP + TN + FP + FN)\n",
    "print(f'Accuracy is {accuracy:.2f}')"
   ]
  },
  {
   "cell_type": "markdown",
   "metadata": {},
   "source": [
    "## 5. Conclusions"
   ]
  },
  {
   "cell_type": "markdown",
   "metadata": {},
   "source": [
    "Even after including all of the available features, our prediction accuracy remained roughly the same. This means that our original parsimonious model was already doing a good job at capturing most of the variance in the data. In other words, the most important features for predicting whether customers will churn or not are: \n",
    "\n",
    "1. how long they have been with the company for (tenure)\n",
    "2. how much they pay per month (monthly charges)\n",
    "3. whether they sign for a long or short term contract (contract ID)"
   ]
  },
  {
   "cell_type": "code",
   "execution_count": null,
   "metadata": {},
   "outputs": [],
   "source": []
  }
 ],
 "metadata": {
  "kernelspec": {
   "display_name": "Python 3",
   "language": "python",
   "name": "python3"
  },
  "language_info": {
   "codemirror_mode": {
    "name": "ipython",
    "version": 3
   },
   "file_extension": ".py",
   "mimetype": "text/x-python",
   "name": "python",
   "nbconvert_exporter": "python",
   "pygments_lexer": "ipython3",
   "version": "3.6.4"
  }
 },
 "nbformat": 4,
 "nbformat_minor": 2
}
