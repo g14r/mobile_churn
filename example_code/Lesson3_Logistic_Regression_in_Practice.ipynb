{
 "cells": [
  {
   "cell_type": "markdown",
   "metadata": {},
   "source": [
    "# NOTE: \n",
    " \n",
    "\n",
    "<h1>Description of the problem</h1> \n",
    "\n",
    "We have a data-set for few hundred paitents, for each paitent we have some features like their age, blood pressure and etc. And, we know if these paitents have diabetes or not. The objective is to see if by looking at the value of these features for another paitent (for whom we dont know the result of the diabete test) we can \"tell\" if that person has diabetes (with an acceptable accuracy). This is an example of **supervised machine learning** project. All supervised algorithms have some features and related target/label values. This problem is also a binary classification because our target is either someone has diabetes or not.   \n",
    "Here are steps we should take:\n",
    "\n",
    "<ol>\n",
    "  \n",
    "  <li>We need to look at our training set and identify features and targets. Here our features are age, bmi, and.... And related labels are diabetes or not.</li>\n",
    " \n",
    "  <li>Do **extensive** data pre-processing (aka: check for crappy data, normalize and/or standardize data and ...). Spoiler alert this step is the most difficult step! </li>\n",
    "  <li>Decide which ML algorithm is best suited for our problem (if an easy algorithm is good, we dont want to use some fancy and complicated algorithms)</li>\n",
    "  <li>Use the ML algorithm to train the model, then evaluate our result (check for accuracy, precision and ...)</li>\n",
    "</ol>\n",
    "\n",
    "From Intro-to-pandas notebook we have already learnt how to load a csv file. And, we have done some explorations too. Here, I just load the training data-set.\n",
    "\n",
    "**NOTE 1: This project was part of a Kaggle competition from 4 years ago. (Yes! you can become a Kaggle master very soon!) So, the data had two parts, the training set (labels were included) and the test set which had only the features and you would predict the out come. https://www.kaggle.com/uciml/pima-indians-diabetes-database**\n",
    "\n",
    "**NOTE 2: many steps in this notebook might look too much! Just bear with me to see how an ML model works. You dont need to get all the details. But, any thing about panda data frame should be easy for you to replicate!** \n",
    "\n"
   ]
  },
  {
   "cell_type": "code",
   "execution_count": 1,
   "metadata": {},
   "outputs": [],
   "source": [
    "# import the library\n",
    "import pandas as pd\n",
    "import matplotlib.pyplot as plt"
   ]
  },
  {
   "cell_type": "code",
   "execution_count": 2,
   "metadata": {},
   "outputs": [],
   "source": [
    "# load csv train-data file\n",
    "data_frame = pd.read_csv(\"diabetes-train.csv\")"
   ]
  },
  {
   "cell_type": "code",
   "execution_count": 3,
   "metadata": {},
   "outputs": [
    {
     "data": {
      "text/html": [
       "<div>\n",
       "<style scoped>\n",
       "    .dataframe tbody tr th:only-of-type {\n",
       "        vertical-align: middle;\n",
       "    }\n",
       "\n",
       "    .dataframe tbody tr th {\n",
       "        vertical-align: top;\n",
       "    }\n",
       "\n",
       "    .dataframe thead th {\n",
       "        text-align: right;\n",
       "    }\n",
       "</style>\n",
       "<table border=\"1\" class=\"dataframe\">\n",
       "  <thead>\n",
       "    <tr style=\"text-align: right;\">\n",
       "      <th></th>\n",
       "      <th>p_id</th>\n",
       "      <th>no_times_pregnant</th>\n",
       "      <th>glucose_concentration</th>\n",
       "      <th>blood_pressure</th>\n",
       "      <th>skin_fold_thickness</th>\n",
       "      <th>serum_insulin</th>\n",
       "      <th>bmi</th>\n",
       "      <th>diabetes pedigree</th>\n",
       "      <th>age</th>\n",
       "      <th>diabetes</th>\n",
       "    </tr>\n",
       "  </thead>\n",
       "  <tbody>\n",
       "    <tr>\n",
       "      <th>0</th>\n",
       "      <td>316</td>\n",
       "      <td>2</td>\n",
       "      <td>112</td>\n",
       "      <td>68</td>\n",
       "      <td>22</td>\n",
       "      <td>94</td>\n",
       "      <td>34.1</td>\n",
       "      <td>0.315</td>\n",
       "      <td>26</td>\n",
       "      <td>0</td>\n",
       "    </tr>\n",
       "    <tr>\n",
       "      <th>1</th>\n",
       "      <td>25</td>\n",
       "      <td>11</td>\n",
       "      <td>143</td>\n",
       "      <td>94</td>\n",
       "      <td>33</td>\n",
       "      <td>146</td>\n",
       "      <td>36.6</td>\n",
       "      <td>0.254</td>\n",
       "      <td>51</td>\n",
       "      <td>1</td>\n",
       "    </tr>\n",
       "    <tr>\n",
       "      <th>2</th>\n",
       "      <td>710</td>\n",
       "      <td>2</td>\n",
       "      <td>93</td>\n",
       "      <td>64</td>\n",
       "      <td>32</td>\n",
       "      <td>160</td>\n",
       "      <td>38.0</td>\n",
       "      <td>0.674</td>\n",
       "      <td>23</td>\n",
       "      <td>1</td>\n",
       "    </tr>\n",
       "    <tr>\n",
       "      <th>3</th>\n",
       "      <td>658</td>\n",
       "      <td>1</td>\n",
       "      <td>120</td>\n",
       "      <td>80</td>\n",
       "      <td>48</td>\n",
       "      <td>200</td>\n",
       "      <td>38.9</td>\n",
       "      <td>1.162</td>\n",
       "      <td>41</td>\n",
       "      <td>0</td>\n",
       "    </tr>\n",
       "    <tr>\n",
       "      <th>4</th>\n",
       "      <td>542</td>\n",
       "      <td>3</td>\n",
       "      <td>128</td>\n",
       "      <td>72</td>\n",
       "      <td>25</td>\n",
       "      <td>190</td>\n",
       "      <td>32.4</td>\n",
       "      <td>0.549</td>\n",
       "      <td>27</td>\n",
       "      <td>1</td>\n",
       "    </tr>\n",
       "    <tr>\n",
       "      <th>...</th>\n",
       "      <td>...</td>\n",
       "      <td>...</td>\n",
       "      <td>...</td>\n",
       "      <td>...</td>\n",
       "      <td>...</td>\n",
       "      <td>...</td>\n",
       "      <td>...</td>\n",
       "      <td>...</td>\n",
       "      <td>...</td>\n",
       "      <td>...</td>\n",
       "    </tr>\n",
       "    <tr>\n",
       "      <th>609</th>\n",
       "      <td>14</td>\n",
       "      <td>1</td>\n",
       "      <td>189</td>\n",
       "      <td>60</td>\n",
       "      <td>23</td>\n",
       "      <td>846</td>\n",
       "      <td>30.1</td>\n",
       "      <td>0.398</td>\n",
       "      <td>59</td>\n",
       "      <td>1</td>\n",
       "    </tr>\n",
       "    <tr>\n",
       "      <th>610</th>\n",
       "      <td>555</td>\n",
       "      <td>1</td>\n",
       "      <td>84</td>\n",
       "      <td>64</td>\n",
       "      <td>23</td>\n",
       "      <td>115</td>\n",
       "      <td>36.9</td>\n",
       "      <td>0.471</td>\n",
       "      <td>28</td>\n",
       "      <td>0</td>\n",
       "    </tr>\n",
       "    <tr>\n",
       "      <th>611</th>\n",
       "      <td>730</td>\n",
       "      <td>2</td>\n",
       "      <td>92</td>\n",
       "      <td>52</td>\n",
       "      <td>0</td>\n",
       "      <td>0</td>\n",
       "      <td>30.1</td>\n",
       "      <td>0.141</td>\n",
       "      <td>22</td>\n",
       "      <td>0</td>\n",
       "    </tr>\n",
       "    <tr>\n",
       "      <th>612</th>\n",
       "      <td>103</td>\n",
       "      <td>0</td>\n",
       "      <td>125</td>\n",
       "      <td>96</td>\n",
       "      <td>0</td>\n",
       "      <td>0</td>\n",
       "      <td>22.5</td>\n",
       "      <td>0.262</td>\n",
       "      <td>21</td>\n",
       "      <td>0</td>\n",
       "    </tr>\n",
       "    <tr>\n",
       "      <th>613</th>\n",
       "      <td>603</td>\n",
       "      <td>1</td>\n",
       "      <td>124</td>\n",
       "      <td>74</td>\n",
       "      <td>36</td>\n",
       "      <td>0</td>\n",
       "      <td>27.8</td>\n",
       "      <td>0.100</td>\n",
       "      <td>30</td>\n",
       "      <td>0</td>\n",
       "    </tr>\n",
       "  </tbody>\n",
       "</table>\n",
       "<p>614 rows × 10 columns</p>\n",
       "</div>"
      ],
      "text/plain": [
       "     p_id  no_times_pregnant  glucose_concentration  blood_pressure  \\\n",
       "0     316                  2                    112              68   \n",
       "1      25                 11                    143              94   \n",
       "2     710                  2                     93              64   \n",
       "3     658                  1                    120              80   \n",
       "4     542                  3                    128              72   \n",
       "..    ...                ...                    ...             ...   \n",
       "609    14                  1                    189              60   \n",
       "610   555                  1                     84              64   \n",
       "611   730                  2                     92              52   \n",
       "612   103                  0                    125              96   \n",
       "613   603                  1                    124              74   \n",
       "\n",
       "     skin_fold_thickness  serum_insulin   bmi  diabetes pedigree  age  \\\n",
       "0                     22             94  34.1              0.315   26   \n",
       "1                     33            146  36.6              0.254   51   \n",
       "2                     32            160  38.0              0.674   23   \n",
       "3                     48            200  38.9              1.162   41   \n",
       "4                     25            190  32.4              0.549   27   \n",
       "..                   ...            ...   ...                ...  ...   \n",
       "609                   23            846  30.1              0.398   59   \n",
       "610                   23            115  36.9              0.471   28   \n",
       "611                    0              0  30.1              0.141   22   \n",
       "612                    0              0  22.5              0.262   21   \n",
       "613                   36              0  27.8              0.100   30   \n",
       "\n",
       "     diabetes  \n",
       "0           0  \n",
       "1           1  \n",
       "2           1  \n",
       "3           0  \n",
       "4           1  \n",
       "..        ...  \n",
       "609         1  \n",
       "610         0  \n",
       "611         0  \n",
       "612         0  \n",
       "613         0  \n",
       "\n",
       "[614 rows x 10 columns]"
      ]
     },
     "execution_count": 3,
     "metadata": {},
     "output_type": "execute_result"
    }
   ],
   "source": [
    "data_frame"
   ]
  },
  {
   "cell_type": "code",
   "execution_count": 4,
   "metadata": {},
   "outputs": [
    {
     "data": {
      "text/html": [
       "<div>\n",
       "<style scoped>\n",
       "    .dataframe tbody tr th:only-of-type {\n",
       "        vertical-align: middle;\n",
       "    }\n",
       "\n",
       "    .dataframe tbody tr th {\n",
       "        vertical-align: top;\n",
       "    }\n",
       "\n",
       "    .dataframe thead th {\n",
       "        text-align: right;\n",
       "    }\n",
       "</style>\n",
       "<table border=\"1\" class=\"dataframe\">\n",
       "  <thead>\n",
       "    <tr style=\"text-align: right;\">\n",
       "      <th></th>\n",
       "      <th>p_id</th>\n",
       "      <th>no_times_pregnant</th>\n",
       "      <th>glucose_concentration</th>\n",
       "      <th>blood_pressure</th>\n",
       "      <th>skin_fold_thickness</th>\n",
       "      <th>serum_insulin</th>\n",
       "      <th>bmi</th>\n",
       "      <th>diabetes pedigree</th>\n",
       "      <th>age</th>\n",
       "      <th>diabetes</th>\n",
       "    </tr>\n",
       "  </thead>\n",
       "  <tbody>\n",
       "    <tr>\n",
       "      <th>count</th>\n",
       "      <td>614.000000</td>\n",
       "      <td>614.000000</td>\n",
       "      <td>614.000000</td>\n",
       "      <td>614.000000</td>\n",
       "      <td>614.000000</td>\n",
       "      <td>614.000000</td>\n",
       "      <td>614.000000</td>\n",
       "      <td>614.000000</td>\n",
       "      <td>614.000000</td>\n",
       "      <td>614.000000</td>\n",
       "    </tr>\n",
       "    <tr>\n",
       "      <th>mean</th>\n",
       "      <td>385.773616</td>\n",
       "      <td>3.853420</td>\n",
       "      <td>120.542345</td>\n",
       "      <td>68.765472</td>\n",
       "      <td>20.244300</td>\n",
       "      <td>79.355049</td>\n",
       "      <td>31.909935</td>\n",
       "      <td>0.466342</td>\n",
       "      <td>33.325733</td>\n",
       "      <td>0.348534</td>\n",
       "    </tr>\n",
       "    <tr>\n",
       "      <th>std</th>\n",
       "      <td>223.603024</td>\n",
       "      <td>3.358126</td>\n",
       "      <td>31.252286</td>\n",
       "      <td>19.914836</td>\n",
       "      <td>15.886083</td>\n",
       "      <td>117.709950</td>\n",
       "      <td>8.007699</td>\n",
       "      <td>0.331090</td>\n",
       "      <td>11.929569</td>\n",
       "      <td>0.476895</td>\n",
       "    </tr>\n",
       "    <tr>\n",
       "      <th>min</th>\n",
       "      <td>1.000000</td>\n",
       "      <td>0.000000</td>\n",
       "      <td>0.000000</td>\n",
       "      <td>0.000000</td>\n",
       "      <td>0.000000</td>\n",
       "      <td>0.000000</td>\n",
       "      <td>0.000000</td>\n",
       "      <td>0.078000</td>\n",
       "      <td>21.000000</td>\n",
       "      <td>0.000000</td>\n",
       "    </tr>\n",
       "    <tr>\n",
       "      <th>25%</th>\n",
       "      <td>191.250000</td>\n",
       "      <td>1.000000</td>\n",
       "      <td>99.000000</td>\n",
       "      <td>62.000000</td>\n",
       "      <td>0.000000</td>\n",
       "      <td>0.000000</td>\n",
       "      <td>27.300000</td>\n",
       "      <td>0.240250</td>\n",
       "      <td>24.000000</td>\n",
       "      <td>0.000000</td>\n",
       "    </tr>\n",
       "    <tr>\n",
       "      <th>50%</th>\n",
       "      <td>387.000000</td>\n",
       "      <td>3.000000</td>\n",
       "      <td>117.000000</td>\n",
       "      <td>72.000000</td>\n",
       "      <td>23.000000</td>\n",
       "      <td>17.000000</td>\n",
       "      <td>32.000000</td>\n",
       "      <td>0.361000</td>\n",
       "      <td>29.000000</td>\n",
       "      <td>0.000000</td>\n",
       "    </tr>\n",
       "    <tr>\n",
       "      <th>75%</th>\n",
       "      <td>572.750000</td>\n",
       "      <td>6.000000</td>\n",
       "      <td>139.000000</td>\n",
       "      <td>80.000000</td>\n",
       "      <td>32.000000</td>\n",
       "      <td>126.000000</td>\n",
       "      <td>36.600000</td>\n",
       "      <td>0.613500</td>\n",
       "      <td>41.000000</td>\n",
       "      <td>1.000000</td>\n",
       "    </tr>\n",
       "    <tr>\n",
       "      <th>max</th>\n",
       "      <td>768.000000</td>\n",
       "      <td>17.000000</td>\n",
       "      <td>197.000000</td>\n",
       "      <td>114.000000</td>\n",
       "      <td>63.000000</td>\n",
       "      <td>846.000000</td>\n",
       "      <td>59.400000</td>\n",
       "      <td>2.420000</td>\n",
       "      <td>81.000000</td>\n",
       "      <td>1.000000</td>\n",
       "    </tr>\n",
       "  </tbody>\n",
       "</table>\n",
       "</div>"
      ],
      "text/plain": [
       "             p_id  no_times_pregnant  glucose_concentration  blood_pressure  \\\n",
       "count  614.000000         614.000000             614.000000      614.000000   \n",
       "mean   385.773616           3.853420             120.542345       68.765472   \n",
       "std    223.603024           3.358126              31.252286       19.914836   \n",
       "min      1.000000           0.000000               0.000000        0.000000   \n",
       "25%    191.250000           1.000000              99.000000       62.000000   \n",
       "50%    387.000000           3.000000             117.000000       72.000000   \n",
       "75%    572.750000           6.000000             139.000000       80.000000   \n",
       "max    768.000000          17.000000             197.000000      114.000000   \n",
       "\n",
       "       skin_fold_thickness  serum_insulin         bmi  diabetes pedigree  \\\n",
       "count           614.000000     614.000000  614.000000         614.000000   \n",
       "mean             20.244300      79.355049   31.909935           0.466342   \n",
       "std              15.886083     117.709950    8.007699           0.331090   \n",
       "min               0.000000       0.000000    0.000000           0.078000   \n",
       "25%               0.000000       0.000000   27.300000           0.240250   \n",
       "50%              23.000000      17.000000   32.000000           0.361000   \n",
       "75%              32.000000     126.000000   36.600000           0.613500   \n",
       "max              63.000000     846.000000   59.400000           2.420000   \n",
       "\n",
       "              age    diabetes  \n",
       "count  614.000000  614.000000  \n",
       "mean    33.325733    0.348534  \n",
       "std     11.929569    0.476895  \n",
       "min     21.000000    0.000000  \n",
       "25%     24.000000    0.000000  \n",
       "50%     29.000000    0.000000  \n",
       "75%     41.000000    1.000000  \n",
       "max     81.000000    1.000000  "
      ]
     },
     "execution_count": 4,
     "metadata": {},
     "output_type": "execute_result"
    }
   ],
   "source": [
    "# to see some initial stat for our data in pandas we can use data_frame.describe(), so we can see what is the mean \n",
    "#value of each feature as well as many more stuff:\n",
    "data_frame.describe()"
   ]
  },
  {
   "cell_type": "markdown",
   "metadata": {},
   "source": [
    "# Data pre-processing\n",
    "\n",
    "1) We need to see if we have any null or nan values. Most ML algorithms cant deal with nan and null.\n",
    "\n",
    "2) it is ALWAYS a good practice to see how many of our target values are labeled 1 and how many as 0. We dont really like to deal with a super skewed data! :/ \n",
    "\n",
    "3) We have already seen in the previous notebooks that data visulization can be really helpful! So, for each feature we want to plot a histogram. Histograms will tell us some good stuff, like we can see if we have some outliers (if we see some large values). "
   ]
  },
  {
   "cell_type": "code",
   "execution_count": 5,
   "metadata": {},
   "outputs": [
    {
     "name": "stdout",
     "output_type": "stream",
     "text": [
      "False\n"
     ]
    }
   ],
   "source": [
    "# look for nan and null\n",
    "print (data_frame.isnull().values.any())\n"
   ]
  },
  {
   "cell_type": "code",
   "execution_count": 6,
   "metadata": {},
   "outputs": [
    {
     "name": "stdout",
     "output_type": "stream",
     "text": [
      "number of plp with diabetes: 214\n",
      "number of plp without diabetes: 400\n"
     ]
    }
   ],
   "source": [
    "label1 = data_frame[data_frame.diabetes == 1]\n",
    "label0 = data_frame[data_frame.diabetes == 0]\n",
    "print(\"number of plp with diabetes:\",label1['diabetes'].count())\n",
    "print(\"number of plp without diabetes:\",label0['diabetes'].count())"
   ]
  },
  {
   "cell_type": "code",
   "execution_count": 7,
   "metadata": {},
   "outputs": [
    {
     "data": {
      "text/plain": [
       "(array([190., 149., 100.,  42.,  62.,  45.,   9.,  14.,   2.,   1.]),\n",
       " array([ 0. ,  1.7,  3.4,  5.1,  6.8,  8.5, 10.2, 11.9, 13.6, 15.3, 17. ]),\n",
       " <a list of 10 Patch objects>)"
      ]
     },
     "execution_count": 7,
     "metadata": {},
     "output_type": "execute_result"
    },
    {
     "data": {
      "image/png": "[encoded data removed]",
      "text/plain": [
       "<Figure size 432x288 with 1 Axes>"
      ]
     },
     "metadata": {
      "needs_background": "light"
     },
     "output_type": "display_data"
    }
   ],
   "source": [
    "# here for each of the features we can make a histogram, I plotted one as an example\n",
    "plt.hist(data_frame[\"no_times_pregnant\"])"
   ]
  },
  {
   "cell_type": "code",
   "execution_count": 8,
   "metadata": {},
   "outputs": [
    {
     "data": {
      "text/plain": [
       "diabetes\n",
       "0    [[AxesSubplot(0.125,0.670278;0.215278x0.209722...\n",
       "1    [[AxesSubplot(0.125,0.670278;0.215278x0.209722...\n",
       "dtype: object"
      ]
     },
     "execution_count": 8,
     "metadata": {},
     "output_type": "execute_result"
    },
    {
     "data": {
      "image/png": "[encoded data removed]",
      "text/plain": [
       "<Figure size 648x648 with 9 Axes>"
      ]
     },
     "metadata": {
      "needs_background": "light"
     },
     "output_type": "display_data"
    },
    {
     "data": {
      "image/png": "[encoded data removed]",
      "text/plain": [
       "<Figure size 648x648 with 9 Axes>"
      ]
     },
     "metadata": {
      "needs_background": "light"
     },
     "output_type": "display_data"
    }
   ],
   "source": [
    "# instead of plotting each seprately, I can do a trick and plot them all together as follow:\n",
    "# groupby command let you group all features according to one specific value. \n",
    "data_frame.groupby(\"diabetes\").hist(figsize=(9, 9))\n"
   ]
  },
  {
   "cell_type": "markdown",
   "metadata": {},
   "source": [
    "Remeber you had this question to answer:\n",
    "\n",
    "How many of people in the dataframe have skin-fold-thickness equals to 0?\n",
    "\n",
    "--- \n",
    "here we need to think about these questions with more caution! From histogram we can see for some features we have lots of zeros! Are they real? Is it possible to find some one with no skin-thickness?? No! so, here, we need to look at each feature and decide for which of them 0 is not a valid value!  \n",
    "\n",
    "1) All people in the data frame are older than 0 (as you can see in the histogram)\n",
    "\n",
    "2) People should have bmi, glucose_concentration (gc), blood_pressure (bp) and skin_fold_thickness (st) bigger than 0, but we can see this is not the case with our data!\n",
    "\n",
    "3) People can have serum_insulin equal to zero\n",
    "\n",
    "So what can we do here? at first we need to see how many 0 values do we have for each of the features mentioned in item 2 (This was the excercise from the Intro_to_Panda lesson).\n",
    "\n",
    "____\n",
    "So, here we are: \n",
    "\n",
    "- 4 paitents have gc == 0\n",
    "- 10 paitentes have bmi == 0\n",
    "- 31 paitnets have bp == 0\n",
    "- 187 paitents have st == 0\n",
    "\n",
    "## How should we deal with this problem? \n",
    "\n",
    "- One option is to ignore take these paitents (data-sets) out of our data frame. This might be a good approach for gc, bp, and bmi, but for st this means that we are gonna lose 187 data points. As we only have 614 data points this will be a huge drop! A quick look shows that we can easily drop rows in which we have 0 value for bmi and gc. Infact, 5 (out of 10) paitents with no bmi, have no record of bp as well! \n",
    "\n",
    "- One other option is to change the value of 0, with the mean value of the column. I will use this method for bp.\n",
    "- For st because there are lots of 0 values and it is not such a great indicator of diabetes. Maybe the best practice is to delet the feature (drop the column from the data frame)"
   ]
  },
  {
   "cell_type": "code",
   "execution_count": 9,
   "metadata": {},
   "outputs": [],
   "source": [
    "# here we only select rows in which the bmi value and gc value are not zero! \n",
    "data_frame = data_frame[(data_frame.bmi !=0) & ((data_frame. glucose_concentration != 0))]"
   ]
  },
  {
   "cell_type": "code",
   "execution_count": 10,
   "metadata": {},
   "outputs": [
    {
     "name": "stderr",
     "output_type": "stream",
     "text": [
      "/Users/wearmelab/opt/anaconda3/lib/python3.8/site-packages/pandas/core/indexing.py:966: SettingWithCopyWarning: \n",
      "A value is trying to be set on a copy of a slice from a DataFrame.\n",
      "Try using .loc[row_indexer,col_indexer] = value instead\n",
      "\n",
      "See the caveats in the documentation: https://pandas.pydata.org/pandas-docs/stable/user_guide/indexing.html#returning-a-view-versus-a-copy\n",
      "  self.obj[item] = s\n"
     ]
    }
   ],
   "source": [
    " # here we change the 0 values to the mean of all other values\n",
    "bp_1 = data_frame[data_frame.blood_pressure !=0]\n",
    "mean_bp  = int(bp_1.loc[:,('blood_pressure')].mean())\n",
    "\n",
    "data_frame.loc[:,('blood_pressure')] =data_frame.loc[:,('blood_pressure')].mask(data_frame.blood_pressure  == 0, mean_bp)\n",
    "\n"
   ]
  },
  {
   "cell_type": "code",
   "execution_count": 11,
   "metadata": {},
   "outputs": [],
   "source": [
    "data_frame = data_frame.drop(columns=['skin_fold_thickness'])"
   ]
  },
  {
   "cell_type": "markdown",
   "metadata": {},
   "source": [
    "# Let's tarin our model\n",
    "\n",
    "We have some features (bmi, bp, ...) that will be used to predict (we call it X) and we have some labeles (we call it Y). If we look at our features we see they cover different range of values, someone's age is between 21 and 81, but number of times being pregnant is ranged between 0 and 17. It is essential to some how tell our model that just because the range of age is bigger than range of number of pregnancies (value for age is bigger) this does not mean that age is more important! For this reason we would like to bring our feature values within the same range. There are different methods for it which we will talk in details about it later. For now, we are just using a library in Python (**scikit-learn**) to help us deal with the range of values issue. \n",
    "\n",
    "## scikit-learn\n",
    "\n",
    "This library is widely used for machine learning project. It has wide range of capabilities (from data pre-processing to implementing machine learning algorithms). In this project we used the library for following purposes: \n",
    "\n",
    "- put our data within the same range: as explained above! \n",
    "\n",
    "- split our data into train and test: we need to split our data to two parts one part will be used for training while the other part will sit as a test set, to evaluate our model (see how good the algorithm learnt the relation between the features and labels).\n",
    "\n",
    "- implement a machine learning algorithm: For now we just import an algorithm as a black box and later in next lessons we dig into characteristics of the model. I chose logistic regression model here because it is one of those algorithms that we will talk about it later!  \n",
    "\n"
   ]
  },
  {
   "cell_type": "code",
   "execution_count": 12,
   "metadata": {},
   "outputs": [],
   "source": [
    "# I use .iloc to select COLUMNS I need for my features (the last column and first columns are not incuded then)\n",
    "# X is my feature set\n",
    "X = data_frame.iloc[:, 1:-1]\n",
    "Y = data_frame.iloc[:,-1]\n"
   ]
  },
  {
   "cell_type": "code",
   "execution_count": 13,
   "metadata": {},
   "outputs": [],
   "source": [
    "from sklearn.preprocessing import StandardScaler\n",
    "scaler = StandardScaler()\n",
    "X_standard = scaler.fit_transform(X)\n"
   ]
  },
  {
   "cell_type": "code",
   "execution_count": 14,
   "metadata": {},
   "outputs": [],
   "source": [
    "from sklearn.model_selection import train_test_split\n",
    "X_train, X_evaluate, Y_train, Y_evaluate = train_test_split(X_standard, Y, test_size=0.3)"
   ]
  },
  {
   "cell_type": "code",
   "execution_count": 15,
   "metadata": {},
   "outputs": [],
   "source": [
    "from sklearn.linear_model import LogisticRegression\n",
    "\n",
    "clf = LogisticRegression(random_state=0).fit(X_train, Y_train)\n",
    "\n",
    "Y_pred = clf.predict(X_evaluate)\n",
    "\n"
   ]
  },
  {
   "cell_type": "markdown",
   "metadata": {},
   "source": [
    "# How good is our model? \n",
    "\n",
    "We get to predict the outcome for people who were part of our evaluation set, and we had their features (X_evaluate). Now, we need to compare the prediction's outcome with the true outcome (true label for each of these people to see if our prediction matches the diagnosis). The idea is that we want to see how many of the cases are labeled correctly (either true positive (TP) or true negative (TN)). And, how many of them are labeled wrongly (false positive (FP) or false negative (FN)). One good way of doing this is to use a confusion matrix. Before that lets talk more about TP, TN, FP, FN:\n",
    "\n",
    "- TP: Predicted positive outcome (here this means the person has diabetes) and the prediction is true\n",
    "- TN: Predicted negative outcome (here this means the person does not have diabetes) and the prediction is true\n",
    "- FP: (Type I Error): Predicted positive outcome but the prediction is false. \n",
    "- FN: (Type II Error): Predicted negaive outcome but the prediction is false. \n",
    "\n",
    "**Recall**: We are interested to see how much of the positive cases were captured by the model correctly and we hope we capture most of the positive cases (the same logic can be used to find the percentage for negative cases being captured corectly). So, we can use the following formula:  \n",
    "\n",
    "$Recall = \\frac{TP}{TP + FN}$\n",
    "\n",
    "**Precision**: We also want to see how much of cases which are predcited/labeled as positive in our model are truley positive cases:\n",
    "\n",
    "$Precision = \\frac{TP}{TP + FP}$\n",
    "\n",
    "**Accuracy**: One more thing to care about is accuracy, meaning what percentage of predictions are true:\n",
    "\n",
    "$Accuracy = \\frac{TP+TN}{TP +TN+ FP + FN}$\n",
    "\n",
    "Using a confusion matrix we can visually see TP, TN, FP and FN values for our model. And, it is easy to have it in Python as follows:   "
   ]
  },
  {
   "cell_type": "code",
   "execution_count": 16,
   "metadata": {},
   "outputs": [
    {
     "data": {
      "text/plain": [
       "<sklearn.metrics._plot.confusion_matrix.ConfusionMatrixDisplay at 0x7fa7e3667790>"
      ]
     },
     "execution_count": 16,
     "metadata": {},
     "output_type": "execute_result"
    },
    {
     "data": {
      "image/png": "[encoded data removed]",
      "text/plain": [
       "<Figure size 432x288 with 2 Axes>"
      ]
     },
     "metadata": {
      "needs_background": "light"
     },
     "output_type": "display_data"
    }
   ],
   "source": [
    "from sklearn.metrics import plot_confusion_matrix\n",
    "class_names = ['Negative', 'Positive', ]\n",
    "\n",
    "plot_confusion_matrix(clf, X_evaluate, Y_evaluate, cmap=plt.cm.Blues, display_labels=class_names)"
   ]
  },
  {
   "cell_type": "markdown",
   "metadata": {},
   "source": [
    "From the above confusion matrix we can easily see that the diagonal values of this plot are TN and TP. \n",
    "## Excercies: \n",
    "\n",
    "1) Find the Precision, Recall, and accuracy using the above information and the confusion matrix. \n",
    "\n",
    "2) Will you trust this model? Why or Why not?\n",
    "\n",
    "3) How can we make a model better? (--- this is the main question in ML!)"
   ]
  },
  {
   "cell_type": "code",
   "execution_count": null,
   "metadata": {},
   "outputs": [],
   "source": []
  }
 ],
 "metadata": {
  "kernelspec": {
   "display_name": "Python 3",
   "language": "python",
   "name": "python3"
  },
  "language_info": {
   "codemirror_mode": {
    "name": "ipython",
    "version": 3
   },
   "file_extension": ".py",
   "mimetype": "text/x-python",
   "name": "python",
   "nbconvert_exporter": "python",
   "pygments_lexer": "ipython3",
   "version": "3.6.4"
  }
 },
 "nbformat": 4,
 "nbformat_minor": 2
}
